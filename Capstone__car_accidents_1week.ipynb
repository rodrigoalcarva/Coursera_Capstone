{
 "cells": [
  {
   "cell_type": "markdown",
   "metadata": {},
   "source": [
    "# Coursera Project Capstone- Car accident severity"
   ]
  },
  {
   "cell_type": "markdown",
   "metadata": {},
   "source": [
    "### Introduction"
   ]
  },
  {
   "cell_type": "markdown",
   "metadata": {},
   "source": [
    "There is a huge impact on the society due to traffic accidents where there is a great costs of fatalities and injuries. In recent years, there is a increase in the researches attention to determine the significantly affect the severity of the drivers injuris which is caused due to the road accidents.\n",
    "Accidents have become very common these days. Nearly 1.25 million people a day die in road chases each year, on average, 3,287 deaths a day. Moreover, 20-50 million people are injured or disabled annualy. \n",
    "Car accidents are one of the common types of collision occurring everywhere globally every day. By analysing the different factors which cause the collision. In this section we are discussing about data Capstone project topic Car accident servity."
   ]
  },
  {
   "cell_type": "markdown",
   "metadata": {},
   "source": [
    "### Objectives\n"
   ]
  },
  {
   "cell_type": "markdown",
   "metadata": {},
   "source": [
    "The objectives of this capstone project are mainly the following:\n",
    "- Gather a compreshensive database of road accident statistics for built up roads with factors that affect road safety which have been provided by the database.\n",
    "- Analyse data for the factors, which can impact accident rates.\n",
    "- Determine type of road classes with highest and lowest amount of accident rates from analysing tables of road accidents statistics and charts created from the database UK-2019 accident set"
   ]
  },
  {
   "cell_type": "markdown",
   "metadata": {},
   "source": [
    "### Data"
   ]
  },
  {
   "cell_type": "markdown",
   "metadata": {},
   "source": [
    "URL: https://datasetsearch.research.google.com/search?query=car%20accidents&docid=yKyJqNCmNypGNKe7AAAAAA%3D%3D\n",
    "\n",
    "I downloaded in csv format"
   ]
  },
  {
   "cell_type": "code",
   "execution_count": null,
   "metadata": {},
   "outputs": [],
   "source": []
  }
 ],
 "metadata": {
  "kernelspec": {
   "display_name": "Python 3",
   "language": "python",
   "name": "python3"
  },
  "language_info": {
   "codemirror_mode": {
    "name": "ipython",
    "version": 3
   },
   "file_extension": ".py",
   "mimetype": "text/x-python",
   "name": "python",
   "nbconvert_exporter": "python",
   "pygments_lexer": "ipython3",
   "version": "3.7.3"
  }
 },
 "nbformat": 4,
 "nbformat_minor": 2
}
